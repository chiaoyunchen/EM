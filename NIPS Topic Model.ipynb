{
 "cells": [
  {
   "cell_type": "markdown",
   "metadata": {},
   "source": [
    "## NIPS Topic Model using Expectation Maximization (EM)\n",
    "\n",
    "The UCI Machine Learning dataset repository hosts several datasets recording word counts for documents [here](https://archive.ics.uci.edu/ml/datasets/Bag+of+Words). Here we will use the NIPS dataset.\n",
    "\n",
    "It provides (a) a table of word counts per document and (b) a vocabulary list for this dataset at the link.\n",
    "\n",
    "We implement the multinomial mixture of topics model using our own EM clustering code."
   ]
  },
  {
   "cell_type": "markdown",
   "metadata": {},
   "source": [
    "### Cluster to 30 topics, using a simple mixture of multinomial topic model."
   ]
  },
  {
   "cell_type": "code",
   "execution_count": 25,
   "metadata": {
    "collapsed": false
   },
   "outputs": [],
   "source": [
    "# import libs\n",
    "import numpy as np\n",
    "import matplotlib.pyplot as plt\n",
    "import sys\n",
    "import csv\n",
    "\n",
    "from math import log\n",
    "from scipy.sparse import csr_matrix\n",
    "from sklearn.cluster import KMeans\n",
    "\n",
    "# read data\n",
    "D = 1500\n",
    "W = 12419\n",
    "NNZ = 746316\n",
    "J = 30 # number of topics/ clusters\n",
    "CONVERGENCE_THRESHOLD = 0.0001\n",
    "SMOOTHING_CONST = 0.0002\n",
    "\n",
    "data = np.loadtxt(r'data/docword.nips.txt', dtype=int, delimiter=' ',skiprows=3)"
   ]
  },
  {
   "cell_type": "markdown",
   "metadata": {},
   "source": [
    "We use CSR matrix for optimal performance as the data matrix is sparse"
   ]
  },
  {
   "cell_type": "code",
   "execution_count": 26,
   "metadata": {
    "collapsed": false
   },
   "outputs": [],
   "source": [
    "# store data as numpy matrix\n",
    "# we subtract by 1 to make data zero-indexed\n",
    "row = data[:, 0] - 1\n",
    "col = data[:, 1] - 1\n",
    "values = data[:, 2]\n",
    "\n",
    "x = csr_matrix((values, (row, col)), shape=(D, W))\n",
    "\n",
    "# CSR matrix to numpy\n",
    "X = x.toarray()"
   ]
  },
  {
   "cell_type": "markdown",
   "metadata": {},
   "source": [
    "Here we start with uniform distribution of p and pi.\n",
    "Rather a better way might be to use results from k-means clustering (a variant of EM) to get rough clusters.\n",
    "\n",
    "**Caution**: pi should not have a zero-element. An infinitesimal smoothing must be applied in such situations, else no documents may be assigned to the corresponding topic."
   ]
  },
  {
   "cell_type": "code",
   "execution_count": 27,
   "metadata": {
    "collapsed": false
   },
   "outputs": [],
   "source": [
    "# p corresponds to probability of word in a topic\n",
    "p = np.ones((J, W))\n",
    "p = 1.0/W * p\n",
    "\n",
    "# pi corresponds to probability that document belongs to topic\n",
    "pi = np.ones(J)\n",
    "pi = 1.0/J * pi"
   ]
  },
  {
   "cell_type": "markdown",
   "metadata": {},
   "source": [
    "Using k-means for better initial values of p's and pi's"
   ]
  },
  {
   "cell_type": "code",
   "execution_count": 28,
   "metadata": {
    "collapsed": false
   },
   "outputs": [],
   "source": [
    "est = KMeans(n_clusters=30)\n",
    "est.fit(X)\n",
    "topic_id = est.labels_"
   ]
  },
  {
   "cell_type": "code",
   "execution_count": 29,
   "metadata": {
    "collapsed": false
   },
   "outputs": [],
   "source": [
    "# get initial p from k-means\n",
    "for j in range(J):\n",
    "    topic_j_docs = X[topic_id == j, :]\n",
    "    topic_j_word_dist = np.sum(topic_j_docs, 0)\n",
    "    p[j,] = topic_j_word_dist / np.sum(topic_j_word_dist)"
   ]
  },
  {
   "cell_type": "code",
   "execution_count": 30,
   "metadata": {
    "collapsed": false
   },
   "outputs": [
    {
     "data": {
      "text/plain": [
       "True"
      ]
     },
     "execution_count": 30,
     "metadata": {},
     "output_type": "execute_result"
    }
   ],
   "source": [
    "# get initial pi from k-means\n",
    "pi = np.array([np.sum(topic_id == i) for i in range(J)])\n",
    "pi = pi / float(D)\n",
    "\n",
    "# check that there are no zero values in pi's\n",
    "0 not in pi"
   ]
  },
  {
   "cell_type": "code",
   "execution_count": 31,
   "metadata": {
    "collapsed": true
   },
   "outputs": [],
   "source": [
    "def logsumexp(X):\n",
    "    \"\"\"\n",
    "    log sum exp trick for approximation to avoid underflow/ overflow\n",
    "    :param X: data matrix\n",
    "    :return: log sum exp applied to each row of input matrix X\n",
    "    \"\"\"\n",
    "    x_max = X.max(1)\n",
    "    return x_max + np.log(np.exp(X - x_max[:, None]).sum(1))"
   ]
  },
  {
   "cell_type": "markdown",
   "metadata": {},
   "source": [
    "We keep a list of expectation value *q* so we can visualize change in q as we iterate through *EM*\n",
    "\n",
    "*Note: There are several ways to check for convergences of EM. We use difference between expectations in consecutive iterations as measure of convergence* "
   ]
  },
  {
   "cell_type": "code",
   "execution_count": 32,
   "metadata": {
    "collapsed": false
   },
   "outputs": [
    {
     "name": "stderr",
     "output_type": "stream",
     "text": [
      "/Users/Zubin/anaconda/lib/python3.5/site-packages/ipykernel/__main__.py:7: RuntimeWarning: divide by zero encountered in log\n",
      "/Users/Zubin/anaconda/lib/python3.5/site-packages/ipykernel/__main__.py:14: RuntimeWarning: invalid value encountered in multiply\n"
     ]
    },
    {
     "name": "stdout",
     "output_type": "stream",
     "text": [
      "nan\n",
      "-14294849.6778\n",
      "-14288011.2853\n",
      "-14287228.4194\n",
      "-14286467.0459\n",
      "-14286233.6827\n",
      "-14286233.7585\n",
      "-14286134.5632\n",
      "-14285444.0908\n",
      "-14284726.6578\n",
      "-14284576.4408\n",
      "-14284576.4408\n",
      "EM finished after 12 iterations\n"
     ]
    }
   ],
   "source": [
    "# EM\n",
    "iter_count = 1\n",
    "list_of_q = [sys.maxsize]\n",
    "\n",
    "while True:\n",
    "    # log likelihood\n",
    "    ll = x.dot(np.log(p).T) + np.log(pi)\n",
    "    \n",
    "    # calculate w_i,j matrix\n",
    "    w = np.exp((ll.T - logsumexp(ll)).T)\n",
    "\n",
    "    ### E-Step ###\n",
    "    \n",
    "    q = np.sum(ll * w)\n",
    "    print(q)\n",
    "    list_of_q.append(q)\n",
    "    \n",
    "    # check for convergence\n",
    "    if abs(q - list_of_q[-2]) < CONVERGENCE_THRESHOLD:\n",
    "        break\n",
    "    \n",
    "    ### M-Step ###\n",
    "    \n",
    "    # update p\n",
    "    for j in range(J):\n",
    "        numerator = np.sum(np.multiply(X.T, w[:,j]).T, 0)\n",
    "        denominator = np.sum(np.sum(X, 1) * w[:,j])\n",
    "        p[j,] = (numerator + SMOOTHING_CONST)/(denominator + (SMOOTHING_CONST * W))\n",
    "        \n",
    "    # update pi\n",
    "    pi = np.sum(w, 0)/ D\n",
    "    \n",
    "    # print(\"finished iteration\", iter_count)\n",
    "    iter_count += 1\n",
    "\n",
    "print(\"EM finished after \" + str(iter_count) + \" iterations\")"
   ]
  },
  {
   "cell_type": "code",
   "execution_count": 33,
   "metadata": {
    "collapsed": false
   },
   "outputs": [
    {
     "data": {
      "image/png": "[encoded data removed]",
      "text/plain": [
       "<matplotlib.figure.Figure at 0x114ee0e80>"
      ]
     },
     "metadata": {},
     "output_type": "display_data"
    }
   ],
   "source": [
    "%matplotlib inline\n",
    "plt.plot(list_of_q[1:])\n",
    "plt.xlabel(\"Number of Iterations\")\n",
    "plt.ylabel(\"Q at E-step\")\n",
    "plt.show()"
   ]
  },
  {
   "cell_type": "markdown",
   "metadata": {},
   "source": [
    "Above graph shows convergence of Q as we progress through iterations of EM algorithm"
   ]
  },
  {
   "cell_type": "markdown",
   "metadata": {},
   "source": [
    "### Graph showing, for each topic, the probability with which the topic is selected.\n"
   ]
  },
  {
   "cell_type": "code",
   "execution_count": 34,
   "metadata": {
    "collapsed": false
   },
   "outputs": [
    {
     "data": {
      "image/png": "[encoded data removed]",
      "text/plain": [
       "<matplotlib.figure.Figure at 0x114ef57b8>"
      ]
     },
     "metadata": {},
     "output_type": "display_data"
    }
   ],
   "source": [
    "%matplotlib inline\n",
    "plt.plot([i for i in range(1,31)], pi)\n",
    "plt.xlabel(\"Topic ID\")\n",
    "plt.ylabel(\"Probability of Topic\")\n",
    "plt.show()"
   ]
  },
  {
   "cell_type": "markdown",
   "metadata": {},
   "source": [
    "Note that the y-axis/ probabilities in above graph do not range from 0 to 1"
   ]
  },
  {
   "cell_type": "markdown",
   "metadata": {},
   "source": [
    "### Table showing, for each topic, the 10 words with the highest probability for that topic."
   ]
  },
  {
   "cell_type": "code",
   "execution_count": 35,
   "metadata": {
    "collapsed": false
   },
   "outputs": [
    {
     "name": "stdout",
     "output_type": "stream",
     "text": [
      "Topic 0: ['neuron', 'network', 'model', 'input', 'neural', 'system', 'function', 'current', 'pattern', 'cell']\n",
      "Topic 1: ['function', 'network', 'input', 'weight', 'neural', 'number', 'unit', 'result', 'threshold', 'bound']\n",
      "Topic 2: ['circuit', 'chip', 'current', 'output', 'analog', 'input', 'system', 'voltage', 'neural', 'network']\n",
      "Topic 3: ['model', 'control', 'learning', 'movement', 'system', 'dynamic', 'forward', 'trajectory', 'controller', 'motor']\n",
      "Topic 4: ['network', 'training', 'weight', 'set', 'neural', 'error', 'unit', 'learning', 'input', 'output']\n",
      "Topic 5: ['network', 'neural', 'input', 'system', 'output', 'problem', 'set', 'function', 'learning', 'training']\n",
      "Topic 6: ['network', 'model', 'error', 'data', 'set', 'cross', 'neural', 'unit', 'validation', 'variables']\n",
      "Topic 7: ['learning', 'action', 'function', 'policy', 'algorithm', 'problem', 'optimal', 'system', 'states', 'reinforcement']\n",
      "Topic 8: ['data', 'cluster', 'clustering', 'algorithm', 'point', 'model', 'set', 'distance', 'learning', 'number']\n",
      "Topic 9: ['learning', 'task', 'system', 'reinforcement', 'control', 'function', 'training', 'action', 'robot', 'skill']\n",
      "Topic 10: ['spike', 'noise', 'neuron', 'model', 'signal', 'information', 'train', 'system', 'input', 'channel']\n",
      "Topic 11: ['speech', 'network', 'system', 'recognition', 'training', 'model', 'speaker', 'hmm', 'neural', 'word']\n",
      "Topic 12: ['network', 'image', 'system', 'character', 'input', 'neural', 'set', 'layer', 'output', 'recognition']\n",
      "Topic 13: ['data', 'function', 'set', 'training', 'error', 'network', 'learning', 'vector', 'method', 'problem']\n",
      "Topic 14: ['learning', 'network', 'error', 'weight', 'training', 'function', 'input', 'neural', 'generalization', 'set']\n",
      "Topic 15: ['network', 'neural', 'system', 'model', 'input', 'function', 'learning', 'pattern', 'neuron', 'memory']\n",
      "Topic 16: ['cell', 'model', 'input', 'visual', 'direction', 'field', 'orientation', 'neuron', 'cortex', 'cortical']\n",
      "Topic 17: ['word', 'classifier', 'training', 'network', 'recognition', 'error', 'set', 'character', 'neural', 'input']\n",
      "Topic 18: ['model', 'data', 'parameter', 'network', 'algorithm', 'set', 'learning', 'distribution', 'function', 'number']\n",
      "Topic 19: ['algorithm', 'set', 'training', 'perceptron', 'examples', 'learning', 'data', 'class', 'input', 'number']\n",
      "Topic 20: ['unit', 'network', 'input', 'hidden', 'output', 'learning', 'training', 'pattern', 'weight', 'problem']\n",
      "Topic 21: ['unit', 'network', 'input', 'weight', 'learning', 'hidden', 'layer', 'output', 'pattern', 'function']\n",
      "Topic 22: ['input', 'data', 'network', 'missing', 'model', 'set', 'features', 'training', 'method', 'neural']\n",
      "Topic 23: ['algorithm', 'learning', 'function', 'problem', 'network', 'vector', 'result', 'error', 'method', 'set']\n",
      "Topic 24: ['face', 'images', 'network', 'image', 'recognition', 'faces', 'set', 'system', 'facial', 'representation']\n",
      "Topic 25: ['neuron', 'input', 'synaptic', 'model', 'learning', 'synapses', 'cell', 'network', 'function', 'firing']\n",
      "Topic 26: ['object', 'view', 'model', 'recognition', 'network', 'unit', 'features', 'image', 'feature', 'representation']\n",
      "Topic 27: ['attractor', 'network', 'model', 'gaussian', 'input', 'observation', 'net', 'parameter', 'space', 'word']\n",
      "Topic 28: ['input', 'output', 'network', 'neural', 'weight', 'net', 'learning', 'function', 'training', 'set']\n",
      "Topic 29: ['model', 'network', 'function', 'system', 'image', 'neural', 'data', 'information', 'point', 'algorithm']\n"
     ]
    }
   ],
   "source": [
    "with open(\"data/vocab.nips.txt\") as f:\n",
    "    word_dict = f.readlines()\n",
    "\n",
    "num_words = 10\n",
    "\n",
    "for j in range(J):\n",
    "    ind = np.argpartition(p[j,], -num_words)[-num_words:]\n",
    "    ind = ind[np.argsort(p[j, ind])][::-1] # sorted indices\n",
    "    print(\"Topic \" + str(j) + \":\", [word_dict[i].replace('\\n','') for i in ind])"
   ]
  },
  {
   "cell_type": "markdown",
   "metadata": {},
   "source": [
    "Above we can see the most frequent ten words in each topic"
   ]
  }
 ],
 "metadata": {
  "anaconda-cloud": {
   "environment": null,
   "summary": "EM Topic Models",
   "url": "https://anaconda.org/zpahuja/nips-topic-model"
  },
  "kernelspec": {
   "display_name": "Python [Root]",
   "language": "python",
   "name": "Python [Root]"
  },
  "language_info": {
   "codemirror_mode": {
    "name": "ipython",
    "version": 3
   },
   "file_extension": ".py",
   "mimetype": "text/x-python",
   "name": "python",
   "nbconvert_exporter": "python",
   "pygments_lexer": "ipython3",
   "version": "3.5.2"
  }
 },
 "nbformat": 4,
 "nbformat_minor": 0
}
