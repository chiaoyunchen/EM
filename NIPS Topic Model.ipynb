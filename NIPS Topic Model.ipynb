{
 "cells": [
  {
   "cell_type": "markdown",
   "metadata": {},
   "source": [
    "## NIPS Topic Model using Expectation Maximization (EM)\n",
    "\n",
    "The UCI Machine Learning dataset repository hosts several datasets recording word counts for documents [here](https://archive.ics.uci.edu/ml/datasets/Bag+of+Words). Here we will use the NIPS dataset.\n",
    "\n",
    "It provides (a) a table of word counts per document and (b) a vocabulary list for this dataset at the link.\n",
    "\n",
    "We implement the multinomial mixture of topics model using our own EM clustering code."
   ]
  },
  {
   "cell_type": "markdown",
   "metadata": {},
   "source": [
    "### Cluster to 30 topics, using a simple mixture of multinomial topic model."
   ]
  },
  {
   "cell_type": "code",
   "execution_count": 25,
   "metadata": {
    "collapsed": false
   },
   "outputs": [],
   "source": [
    "# import libs\n",
    "import numpy as np\n",
    "import matplotlib.pyplot as plt\n",
    "import sys\n",
    "import csv\n",
    "\n",
    "from math import log\n",
    "from scipy.sparse import csr_matrix\n",
    "from sklearn.cluster import KMeans\n",
    "\n",
    "# read data\n",
    "D = 1500\n",
    "W = 12419\n",
    "NNZ = 746316\n",
    "J = 30 # number of topics/ clusters\n",
    "CONVERGENCE_THRESHOLD = 0.0001\n",
    "SMOOTHING_CONST = 0.0002\n",
    "\n",
    "data = np.loadtxt(r'data/docword.nips.txt', dtype=int, delimiter=' ',skiprows=3)"
   ]
  },
  {
   "cell_type": "markdown",
   "metadata": {},
   "source": [
    "We use CSR matrix for optimal performance as the data matrix is sparse"
   ]
  },
  {
   "cell_type": "code",
   "execution_count": 26,
   "metadata": {
    "collapsed": false
   },
   "outputs": [],
   "source": [
    "# store data as numpy matrix\n",
    "# we subtract by 1 to make data zero-indexed\n",
    "row = data[:, 0] - 1\n",
    "col = data[:, 1] - 1\n",
    "values = data[:, 2]\n",
    "\n",
    "x = csr_matrix((values, (row, col)), shape=(D, W))\n",
    "\n",
    "# CSR matrix to numpy\n",
    "X = x.toarray()"
   ]
  },
  {
   "cell_type": "markdown",
   "metadata": {},
   "source": [
    "Here we start with uniform distribution of p and pi.\n",
    "Rather a better way might be to use results from k-means clustering (a variant of EM) to get rough clusters.\n",
    "\n",
    "**Caution**: pi should not have a zero-element. An infinitesimal smoothing must be applied in such situations, else no documents may be assigned to the corresponding topic."
   ]
  },
  {
   "cell_type": "code",
   "execution_count": 27,
   "metadata": {
    "collapsed": false
   },
   "outputs": [],
   "source": [
    "# p corresponds to probability of word in a topic\n",
    "p = np.ones((J, W))\n",
    "p = 1.0/W * p\n",
    "\n",
    "# pi corresponds to probability that document belongs to topic\n",
    "pi = np.ones(J)\n",
    "pi = 1.0/J * pi"
   ]
  },
  {
   "cell_type": "markdown",
   "metadata": {},
   "source": [
    "Using k-means for better initial values of p's and pi's"
   ]
  },
  {
   "cell_type": "code",
   "execution_count": 28,
   "metadata": {
    "collapsed": false
   },
   "outputs": [],
   "source": [
    "est = KMeans(n_clusters=30)\n",
    "est.fit(X)\n",
    "topic_id = est.labels_"
   ]
  },
  {
   "cell_type": "code",
   "execution_count": 29,
   "metadata": {
    "collapsed": false
   },
   "outputs": [],
   "source": [
    "# get initial p from k-means\n",
    "for j in range(J):\n",
    "    topic_j_docs = X[topic_id == j, :]\n",
    "    topic_j_word_dist = np.sum(topic_j_docs, 0)\n",
    "    p[j,] = topic_j_word_dist / np.sum(topic_j_word_dist)"
   ]
  },
  {
   "cell_type": "code",
   "execution_count": 30,
   "metadata": {
    "collapsed": false
   },
   "outputs": [
    {
     "data": {
      "text/plain": [
       "True"
      ]
     },
     "execution_count": 30,
     "metadata": {},
     "output_type": "execute_result"
    }
   ],
   "source": [
    "# get initial pi from k-means\n",
    "pi = np.array([np.sum(topic_id == i) for i in range(J)])\n",
    "pi = pi / float(D)\n",
    "\n",
    "# check that there are no zero values in pi's\n",
    "0 not in pi"
   ]
  },
  {
   "cell_type": "code",
   "execution_count": 31,
   "metadata": {
    "collapsed": true
   },
   "outputs": [],
   "source": [
    "def logsumexp(X):\n",
    "    \"\"\"\n",
    "    log sum exp trick for approximation to avoid underflow/ overflow\n",
    "    :param X: data matrix\n",
    "    :return: log sum exp applied to each row of input matrix X\n",
    "    \"\"\"\n",
    "    x_max = X.max(1)\n",
    "    return x_max + np.log(np.exp(X - x_max[:, None]).sum(1))"
   ]
  },
  {
   "cell_type": "markdown",
   "metadata": {},
   "source": [
    "We keep a list of expectation value *q* so we can visualize change in q as we iterate through *EM*\n",
    "\n",
    "*Note: There are several ways to check for convergences of EM. We use difference between expectations in consecutive iterations as measure of convergence* "
   ]
  },
  {
   "cell_type": "code",
   "execution_count": 32,
   "metadata": {
    "collapsed": false
   },
   "outputs": [
    {
     "name": "stderr",
     "output_type": "stream",
     "text": [
      "/Users/Zubin/anaconda/lib/python3.5/site-packages/ipykernel/__main__.py:7: RuntimeWarning: divide by zero encountered in log\n",
      "/Users/Zubin/anaconda/lib/python3.5/site-packages/ipykernel/__main__.py:14: RuntimeWarning: invalid value encountered in multiply\n"
     ]
    },
    {
     "name": "stdout",
     "output_type": "stream",
     "text": [
      "nan\n",
      "-14294849.6778\n",
      "-14288011.2853\n",
      "-14287228.4194\n",
      "-14286467.0459\n",
      "-14286233.6827\n",
      "-14286233.7585\n",
      "-14286134.5632\n",
      "-14285444.0908\n",
      "-14284726.6578\n",
      "-14284576.4408\n",
      "-14284576.4408\n",
      "EM finished after 12 iterations\n"
     ]
    }
   ],
   "source": [
    "# EM\n",
    "iter_count = 1\n",
    "list_of_q = [sys.maxsize]\n",
    "\n",
    "while True:\n",
    "    # log likelihood\n",
    "    ll = x.dot(np.log(p).T) + np.log(pi)\n",
    "    \n",
    "    # calculate w_i,j matrix\n",
    "    w = np.exp((ll.T - logsumexp(ll)).T)\n",
    "\n",
    "    ### E-Step ###\n",
    "    \n",
    "    q = np.sum(ll * w)\n",
    "    print(q)\n",
    "    list_of_q.append(q)\n",
    "    \n",
    "    # check for convergence\n",
    "    if abs(q - list_of_q[-2]) < CONVERGENCE_THRESHOLD:\n",
    "        break\n",
    "    \n",
    "    ### M-Step ###\n",
    "    \n",
    "    # update p\n",
    "    for j in range(J):\n",
    "        numerator = np.sum(np.multiply(X.T, w[:,j]).T, 0)\n",
    "        denominator = np.sum(np.sum(X, 1) * w[:,j])\n",
    "        p[j,] = (numerator + SMOOTHING_CONST)/(denominator + (SMOOTHING_CONST * W))\n",
    "        \n",
    "    # update pi\n",
    "    pi = np.sum(w, 0)/ D\n",
    "    \n",
    "    # print(\"finished iteration\", iter_count)\n",
    "    iter_count += 1\n",
    "\n",
    "print(\"EM finished after \" + str(iter_count) + \" iterations\")"
   ]
  },
  {
   "cell_type": "code",
   "execution_count": 33,
   "metadata": {
    "collapsed": false
   },
   "outputs": [
    {
     "data": {
      "image/png": "[encoded data removed]",
      "text/plain": [
       "<matplotlib.figure.Figure at 0x114ee0e80>"
      ]
     },
     "metadata": {},
     "output_type": "display_data"
    }
   ],
   "source": [
    "%matplotlib inline\n",
    "plt.plot(list_of_q[1:])\n",
    "plt.xlabel(\"Number of Iterations\")\n",
    "plt.ylabel(\"Q at E-step\")\n",
    "plt.show()"
   ]
  },
  {
   "cell_type": "markdown",
   "metadata": {},
   "source": [
    "Above graph shows convergence of Q as we progress through iterations of EM algorithm"
   ]
  },
  {
   "cell_type": "markdown",
   "metadata": {},
   "source": [
    "### Graph showing, for each topic, the probability with which the topic is selected.\n"
   ]
  },
  {
   "cell_type": "code",
   "execution_count": 34,
   "metadata": {
    "collapsed": false
   },
   "outputs": [
    {
     "data": {
      "image/png": "[encoded data removed]",
      "text/plain": [
       "<matplotlib.figure.Figure at 0x114ef57b8>"
      ]
     },
     "metadata": {},
     "output_type": "display_data"
    }
   ],
   "source": [
    "%matplotlib inline\n",
    "plt.plot([i for i in range(1,31)], pi)\n",
    "plt.xlabel(\"Topic ID\")\n",
    "plt.ylabel(\"Probability of Topic\")\n",
    "plt.show()"
   ]
  },
  {
   "cell_type": "markdown",
   "metadata": {},
   "source": [
    "Note that the y-axis/ probabilities in above graph do not range from 0 to 1"
   ]
  },
  {
   "cell_type": "markdown",
   "metadata": {},
   "source": [
    "### Table showing, for each topic, the 10 words with the highest probability for that topic."
   ]
  },
  {
   "cell_type": "code",
   "execution_count": 35,
   "metadata": {
    "collapsed": false
   },
   "outputs": [
    {
     "name": "stdout",
     "output_type": "stream",
     "text": [
      "Topic 0: ['neuron', 'network', 'model', 'input', 'neural', 'system', 'function', 'current', 'pattern', 'cell']\n",
      "Topic 1: ['function', 'network', 'input', 'weight', 'neural', 'number', 'unit', 'result', 'threshold', 'bound']\n",
      "Topic 2: ['circuit', 'chip', 'current', 'output', 'analog', 'input', 'system', 'voltage', 'neural', 'network']\n",
      "Topic 3: ['model', 'control', 'learning', 'movement', 'system', 'dynamic', 'forward', 'trajectory', 'controller', 'motor']\n",
      "Topic 4: ['network', 'training', 'weight', 'set', 'neural', 'error', 'unit', 'learning', 'input', 'output']\n",
      "Topic 5: ['network', 'neural', 'input', 'system', 'output', 'problem', 'set', 'function', 'learning', 'training']\n",
      "Topic 6: ['network', 'model', 'error', 'data', 'set', 'cross', 'neural', 'unit', 'validation', 'variables']\n",
      "Topic 7: ['learning', 'action', 'function', 'policy', 'algorithm', 'problem', 'optimal', 'system', 'states', 'reinforcement']\n",
      "Topic 8: ['data', 'cluster', 'clustering', 'algorithm', 'point', 'model', 'set', 'distance', 'learning', 'number']\n",
      "Topic 9: ['learning', 'task', 'system', 'reinforcement', 'control', 'function', 'training', 'action', 'robot', 'skill']\n",
      "Topic 10: ['spike', 'noise', 'neuron', 'model', 'signal', 'information', 'train', 'system', 'input', 'channel']\n",
      "Topic 11: ['speech', 'network', 'system', 'recognition', 'training', 'model', 'speaker', 'hmm', 'neural', 'word']\n",
      "Topic 12: ['network', 'image', 'system', 'character', 'input', 'neural', 'set', 'layer', 'output', 'recognition']\n",
      "Topic 13: ['data', 'function', 'set', 'training', 'error', 'network', 'learning', 'vector', 'method', 'problem']\n",
      "Topic 14: ['learning', 'network', 'error', 'weight', 'training', 'function', 'input', 'neural', 'generalization', 'set']\n",
      "Topic 15: ['network', 'neural', 'system', 'model', 'input', 'function', 'learning', 'pattern', 'neuron', 'memory']\n",
      "Topic 16: ['cell', 'model', 'input', 'visual', 'direction', 'field', 'orientation', 'neuron', 'cortex', 'cortical']\n",
      "Topic 17: ['word', 'classifier', 'training', 'network', 'recognition', 'error', 'set', 'character', 'neural', 'input']\n",
      "Topic 18: ['model', 'data', 'parameter', 'network', 'algorithm', 'set', 'learning', 'distribution', 'function', 'number']\n",
      "Topic 19: ['algorithm', 'set', 'training', 'perceptron', 'examples', 'learning', 'data', 'class', 'input', 'number']\n",
      "Topic 20: ['unit', 'network', 'input', 'hidden', 'output', 'learning', 'training', 'pattern', 'weight', 'problem']\n",
      "Topic 21: ['unit', 'network', 'input', 'weight', 'learning', 'hidden', 'layer', 'output', 'pattern', 'function']\n",
      "Topic 22: ['input', 'data', 'network', 'missing', 'model', 'set', 'features', 'training', 'method', 'neural']\n",
      "Topic 23: ['algorithm', 'learning', 'function', 'problem', 'network', 'vector', 'result', 'error', 'method', 'set']\n",
      "Topic 24: ['face', 'images', 'network', 'image', 'recognition', 'faces', 'set', 'system', 'facial', 'representation']\n",
      "Topic 25: ['neuron', 'input', 'synaptic', 'model', 'learning', 'synapses', 'cell', 'network', 'function', 'firing']\n",
      "Topic 26: ['object', 'view', 'model', 'recognition', 'network', 'unit', 'features', 'image', 'feature', 'representation']\n",
      "Topic 27: ['attractor', 'network', 'model', 'gaussian', 'input', 'observation', 'net', 'parameter', 'space', 'word']\n",
      "Topic 28: ['input', 'output', 'network', 'neural', 'weight', 'net', 'learning', 'function', 'training', 'set']\n",
      "Topic 29: ['model', 'network', 'function', 'system', 'image', 'neural', 'data', 'information', 'point', 'algorithm']\n"
     ]
    }
   ],
   "source": [
    "with open(\"data/vocab.nips.txt\") as f:\n",
    "    word_dict = f.readlines()\n",
    "\n",
    "num_words = 10\n",
    "\n",
    "for j in range(J):\n",
    "    ind = np.argpartition(p[j,], -num_words)[-num_words:]\n",
    "    ind = ind[np.argsort(p[j, ind])][::-1] # sorted indices\n",
    "    print(\"Topic \" + str(j) + \":\", [word_dict[i].replace('\\n','') for i in ind])"
   ]
  },
  {
   "cell_type": "markdown",
   "metadata": {},
   "source": [
    "Above we can see the most frequent ten words in each topic"
   ]
  }
 ],
 "metadata": {
  "anaconda-cloud": {
   "environment": null,
   "summary": "EM Topic Models for NIPS data",
   "thumbnail": "data:image/png;base64,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",
   "url": "https://anaconda.org/zpahuja/nips-topic-model"
  },
  "kernelspec": {
   "display_name": "Python [Root]",
   "language": "python",
   "name": "Python [Root]"
  },
  "language_info": {
   "codemirror_mode": {
    "name": "ipython",
    "version": 3
   },
   "file_extension": ".py",
   "mimetype": "text/x-python",
   "name": "python",
   "nbconvert_exporter": "python",
   "pygments_lexer": "ipython3",
   "version": "3.5.2"
  }
 },
 "nbformat": 4,
 "nbformat_minor": 0
}
