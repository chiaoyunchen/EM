{
 "cells": [
  {
   "cell_type": "markdown",
   "metadata": {},
   "source": [
    "## Image segmentation using EM \n",
    "\n",
    "Segment images using a clustering method - each segment is the cluster center to which a pixel belongs. \n",
    "\n",
    "Image pixels are represented by their r, g, and b values. EM algorithm is applied to the mixture of normal distribution model to cluster image pixels, then the image is segmented by mapping each pixel to the cluster center with the highest value of the posterior probability for that pixel."
   ]
  },
  {
   "cell_type": "markdown",
   "metadata": {},
   "source": [
    "#### Segment each of the images to 10, 20, and 50 segments. These segmented images are displayed as images, where each pixel's color is replaced with the mean color of the closest segment."
   ]
  },
  {
   "cell_type": "code",
   "execution_count": 30,
   "metadata": {
    "collapsed": false
   },
   "outputs": [],
   "source": [
    "# import libs\n",
    "import sys\n",
    "import numpy as np\n",
    "import matplotlib.pyplot as plt\n",
    "\n",
    "from scipy import misc\n",
    "from sklearn.cluster import KMeans\n",
    "\n",
    "# read data\n",
    "goby_img = misc.imread('images/goby.jpg') # 480 x 640 x 3 array\n",
    "(H, W, N) = goby_img.shape\n",
    "data = goby_img.reshape((H * W, N))"
   ]
  },
  {
   "cell_type": "code",
   "execution_count": 31,
   "metadata": {
    "collapsed": false,
    "scrolled": true
   },
   "outputs": [],
   "source": [
    "def logsumexp(X):\n",
    "    \"\"\"\n",
    "    log sum exp trick for approximation to avoid underflow/ overflow\n",
    "    :param X: data matrix\n",
    "    :return: log sum exp applied to each row of input matrix X\n",
    "    \"\"\"\n",
    "    x_max = X.max(1)\n",
    "    return x_max + np.log(np.exp(X - x_max[:, None]).sum(1))"
   ]
  },
  {
   "cell_type": "markdown",
   "metadata": {},
   "source": [
    "We use k-means to compute rough cluster centers and mixture weights.\n",
    "\n",
    "*Caution*: pi should not have a zero-element. An infinitesimal smoothing must be applied in such situations, else no documents may be assigned to the corresponding topic.\n",
    "\n",
    "*We define a function so we can repeat the process for different images*"
   ]
  },
  {
   "cell_type": "code",
   "execution_count": 35,
   "metadata": {
    "collapsed": false
   },
   "outputs": [],
   "source": [
    "CONVERGENCE_THRESHOLD = 0.0001\n",
    "\n",
    "def EM(X, img_name):\n",
    "    \"\"\"\n",
    "    Function that performs EM for image segmentation for [10, 20, 50] segments and displays results as image\n",
    "    :param X: data matrix where each row is [R,G,B]\n",
    "    \"\"\"\n",
    "    estimators = {'k_means_10': KMeans(n_clusters=10),\n",
    "                  'k_means_20': KMeans(n_clusters=20),\n",
    "                  'k_means_50': KMeans(n_clusters=50)}\n",
    "    \n",
    "    for name, est in estimators.items():\n",
    "        print(name)\n",
    "        J = int(name[8:])\n",
    "        NUM_PIXELS = X.shape[0]\n",
    "        \n",
    "        # perform k means\n",
    "        est.fit(X)\n",
    "        segments_id = est.labels_\n",
    "        \n",
    "        # get initial cluster centers/ means from k-means\n",
    "        means = est.cluster_centers_\n",
    "        \n",
    "        # get initial pi from k-means\n",
    "        pi = np.array([np.sum(segments_id == i) for i in range(J)])\n",
    "        pi = pi / float(NUM_PIXELS)\n",
    "\n",
    "        # check that there are no zero values in pi's\n",
    "        print(\"check there are no zero values in pi\", 0 not in pi)\n",
    "        \n",
    "        ### EM ###\n",
    "        prev_Q = sys.maxsize\n",
    "        \n",
    "        while True:\n",
    "            \n",
    "            ## E-Step ##\n",
    "            ll = np.zeros((NUM_PIXELS, J))\n",
    "            for j in range(J):\n",
    "                ll[:,j] = -0.5 * np.sum((X - means[j,])**2, 1)\n",
    "            \n",
    "            # compute w_ij\n",
    "            w = np.exp(ll) @ np.diag(pi)\n",
    "            w = (w.T / np.sum(w,1)).T\n",
    "            \n",
    "            # compute Q without constant K\n",
    "            Q = np.sum(ll * w)\n",
    "            print(Q)\n",
    "            \n",
    "            # check for convergence\n",
    "            if abs(Q - prev_Q) <= CONVERGENCE_THRESHOLD:\n",
    "                break\n",
    "            else:\n",
    "                prev_Q = Q\n",
    "            \n",
    "            ## M-Step ##\n",
    "            \n",
    "            # update means\n",
    "            for j in range(J):\n",
    "                means[j,] = np.sum((x.T * w[:,j]).T, 0) / np.sum(w[:,j])\n",
    "\n",
    "            # update pi\n",
    "            pi = np.sum(w, 0)/ NUM_PIXELS\n",
    "            \n",
    "            # display result as segmented image\n",
    "            misc.imsave('images/goby.jpg')\n",
    "        \n",
    "#EM(data)"
   ]
  },
  {
   "cell_type": "markdown",
   "metadata": {},
   "source": [
    "#### Segment the sunset image to 20 segments using five different start points, and display the result for each case. \n",
    "\n",
    "Is there much variation in the result?"
   ]
  },
  {
   "cell_type": "code",
   "execution_count": null,
   "metadata": {
    "collapsed": true
   },
   "outputs": [],
   "source": []
  },
  {
   "cell_type": "code",
   "execution_count": null,
   "metadata": {
    "collapsed": true
   },
   "outputs": [],
   "source": []
  }
 ],
 "metadata": {
  "anaconda-cloud": {},
  "kernelspec": {
   "display_name": "Python [Root]",
   "language": "python",
   "name": "Python [Root]"
  },
  "language_info": {
   "codemirror_mode": {
    "name": "ipython",
    "version": 3
   },
   "file_extension": ".py",
   "mimetype": "text/x-python",
   "name": "python",
   "nbconvert_exporter": "python",
   "pygments_lexer": "ipython3",
   "version": "3.5.2"
  }
 },
 "nbformat": 4,
 "nbformat_minor": 0
}
