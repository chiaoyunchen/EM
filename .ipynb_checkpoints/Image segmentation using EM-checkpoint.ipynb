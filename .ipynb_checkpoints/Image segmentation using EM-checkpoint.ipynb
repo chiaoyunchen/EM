{
 "cells": [
  {
   "cell_type": "markdown",
   "metadata": {},
   "source": [
    "## Image segmentation using EM \n",
    "\n",
    "Segment images using a clustering method - each segment is the cluster center to which a pixel belongs. \n",
    "\n",
    "Image pixels are represented by their r, g, and b values. EM algorithm is applied to the mixture of normal distribution model to cluster image pixels, then the image is segmented by mapping each pixel to the cluster center with the highest value of the posterior probability for that pixel."
   ]
  },
  {
   "cell_type": "markdown",
   "metadata": {},
   "source": [
    "#### Segment each of the images to 10, 20, and 50 segments. These segmented images are displayed as images, where each pixel's color is replaced with the mean color of the closest segment."
   ]
  },
  {
   "cell_type": "code",
   "execution_count": 53,
   "metadata": {
    "collapsed": false
   },
   "outputs": [],
   "source": [
    "# import libs\n",
    "import sys\n",
    "import numpy as np\n",
    "import matplotlib.pyplot as plt\n",
    "%matplotlib inline  \n",
    "\n",
    "from scipy import misc\n",
    "from sklearn.cluster import KMeans\n",
    "from sklearn import preprocessing as pre"
   ]
  },
  {
   "cell_type": "code",
   "execution_count": 54,
   "metadata": {
    "collapsed": false,
    "scrolled": true
   },
   "outputs": [],
   "source": [
    "def logsumexp(X):\n",
    "    \"\"\"\n",
    "    log sum exp trick for approximation to avoid underflow/ overflow\n",
    "    :param X: data matrix\n",
    "    :return: log sum exp applied to each row of input matrix X\n",
    "    \"\"\"\n",
    "    x_max = X.max(1)\n",
    "    return x_max + np.log(np.exp(X - x_max[:, None]).sum(1))"
   ]
  },
  {
   "cell_type": "markdown",
   "metadata": {},
   "source": [
    "We use k-means to compute rough cluster centers and mixture weights.\n",
    "\n",
    "*Caution*: pi should not have a zero-element. An infinitesimal smoothing must be applied in such situations, else no documents may be assigned to the corresponding topic.\n",
    "\n",
    "*We define a function so we can repeat the process for different images*"
   ]
  },
  {
   "cell_type": "code",
   "execution_count": 55,
   "metadata": {
    "collapsed": false
   },
   "outputs": [],
   "source": [
    "CONVERGENCE_THRESHOLD = 10\n",
    "\n",
    "def EM(X, img_name, W, H, center, scale):\n",
    "    \"\"\"\n",
    "    Function that performs EM for image segmentation for [10, 20, 50] segments and displays results as image\n",
    "    :param X: data matrix where each row is [R,G,B]\n",
    "    \"\"\"\n",
    "    estimators = {'k_means_10': KMeans(n_clusters=10),\n",
    "                  'k_means_20': KMeans(n_clusters=20),\n",
    "                  'k_means_50': KMeans(n_clusters=50)}\n",
    "    \n",
    "    for name, est in estimators.items():\n",
    "        print(name)\n",
    "        J = int(name[8:])\n",
    "        NUM_PIXELS = X.shape[0]\n",
    "        \n",
    "        # perform k means\n",
    "        est.fit(X)\n",
    "        segments_id = est.labels_\n",
    "        \n",
    "        # get initial cluster centers/ means from k-means\n",
    "        means = est.cluster_centers_\n",
    "        \n",
    "        # get initial pi from k-means\n",
    "        pi = np.array([np.sum(segments_id == i) for i in range(J)])\n",
    "        pi = pi / float(NUM_PIXELS)\n",
    "\n",
    "        # check that there are no zero values in pi's\n",
    "        print(\"check there are no zero values in pi\", 0 not in pi)\n",
    "        \n",
    "        ### EM ###\n",
    "        prev_Q = sys.maxsize\n",
    "        list_of_q = []\n",
    "        \n",
    "        while True:\n",
    "            \n",
    "            ## E-Step ##\n",
    "            ll = np.zeros((NUM_PIXELS, J))\n",
    "            for j in range(J):\n",
    "                ll[:,j] = -0.5 * np.sum((X - means[j,])**2, 1)\n",
    "            \n",
    "            # compute w_ij\n",
    "            w = np.exp(ll) @ np.diag(pi)\n",
    "            w = (w.T / np.sum(w,1)).T\n",
    "            \n",
    "            # compute Q without constant K\n",
    "            Q = np.sum(ll * w)\n",
    "            list_of_q.append(Q)\n",
    "            \n",
    "            # check for convergence\n",
    "            if abs(Q - prev_Q) <= CONVERGENCE_THRESHOLD:\n",
    "                break\n",
    "            else:\n",
    "                prev_Q = Q\n",
    "            \n",
    "            ## M-Step ##\n",
    "            \n",
    "            # update means\n",
    "            for j in range(J):\n",
    "                means[j,] = np.sum((X.T * w[:,j]).T, 0) / np.sum(w[:,j])\n",
    "\n",
    "            # update pi\n",
    "            pi = np.sum(w, 0)/ NUM_PIXELS\n",
    "            \n",
    "        # plot convergence of Q as we progress through EM\n",
    "        plt.plot(list_of_q)\n",
    "        plt.xlabel(\"Number of Iterations\")\n",
    "        plt.ylabel(\"Q at E-step\")\n",
    "        plt.show()\n",
    "            \n",
    "        # display result as segmented image\n",
    "        segmented_img_rgb = np.zeros((H, W, 3), dtype=np.uint8)\n",
    "        for i in range(H):\n",
    "            for j in range(W):\n",
    "                idx = (i-1) * W + j\n",
    "                pixel = X[idx,]\n",
    "                pixel_segment_id = np.argmax(w[idx,])\n",
    "                segmented_img_rgb[i,j,] = means(pixel_segment_id,) * scale + center\n",
    "            \n",
    "        plt.imshow(segmented_img_rgb) # show segmented image\n",
    "        misc.imsave('images/' + img_name + name + '.jpg', segmented_img_rgb) # save segmented image"
   ]
  },
  {
   "cell_type": "code",
   "execution_count": 56,
   "metadata": {
    "collapsed": false
   },
   "outputs": [
    {
     "name": "stderr",
     "output_type": "stream",
     "text": [
      "/Users/Zubin/anaconda/lib/python3.5/site-packages/sklearn/utils/validation.py:420: DataConversionWarning: Data with input dtype uint8 was converted to float64 by the scale function.\n",
      "  warnings.warn(msg, DataConversionWarning)\n"
     ]
    },
    {
     "name": "stdout",
     "output_type": "stream",
     "text": [
      "k_means_20\n",
      "check there are no zero values in pi True\n"
     ]
    },
    {
     "data": {
      "image/png": "[encoded data removed]",
      "text/plain": [
       "<matplotlib.figure.Figure at 0x10cdbb780>"
      ]
     },
     "metadata": {},
     "output_type": "display_data"
    },
    {
     "ename": "IndexError",
     "evalue": "index 480 is out of bounds for axis 0 with size 480",
     "output_type": "error",
     "traceback": [
      "\u001b[0;31m---------------------------------------------------------------------------\u001b[0m",
      "\u001b[0;31mIndexError\u001b[0m                                Traceback (most recent call last)",
      "\u001b[0;32m<ipython-input-56-f482b3a0a969>\u001b[0m in \u001b[0;36m<module>\u001b[0;34m()\u001b[0m\n\u001b[1;32m      6\u001b[0m \u001b[0;34m\u001b[0m\u001b[0m\n\u001b[1;32m      7\u001b[0m \u001b[0;31m# run EM\u001b[0m\u001b[0;34m\u001b[0m\u001b[0;34m\u001b[0m\u001b[0m\n\u001b[0;32m----> 8\u001b[0;31m \u001b[0mEM\u001b[0m\u001b[0;34m(\u001b[0m\u001b[0mdata\u001b[0m\u001b[0;34m,\u001b[0m \u001b[0;34m'goby_'\u001b[0m\u001b[0;34m,\u001b[0m \u001b[0mW\u001b[0m\u001b[0;34m,\u001b[0m \u001b[0mH\u001b[0m\u001b[0;34m)\u001b[0m\u001b[0;34m\u001b[0m\u001b[0m\n\u001b[0m",
      "\u001b[0;32m<ipython-input-55-2be40705e594>\u001b[0m in \u001b[0;36mEM\u001b[0;34m(X, img_name, W, H)\u001b[0m\n\u001b[1;32m     75\u001b[0m             \u001b[0mrow_index\u001b[0m \u001b[0;34m=\u001b[0m \u001b[0mint\u001b[0m\u001b[0;34m(\u001b[0m\u001b[0mi\u001b[0m\u001b[0;34m/\u001b[0m\u001b[0mW\u001b[0m\u001b[0;34m)\u001b[0m\u001b[0;34m\u001b[0m\u001b[0m\n\u001b[1;32m     76\u001b[0m             \u001b[0mcol_index\u001b[0m \u001b[0;34m=\u001b[0m \u001b[0mi\u001b[0m \u001b[0;34m%\u001b[0m \u001b[0mH\u001b[0m\u001b[0;34m\u001b[0m\u001b[0m\n\u001b[0;32m---> 77\u001b[0;31m             \u001b[0msegmented_img_rgb\u001b[0m\u001b[0;34m[\u001b[0m\u001b[0mrow_index\u001b[0m\u001b[0;34m-\u001b[0m\u001b[0;36m1\u001b[0m\u001b[0;34m,\u001b[0m \u001b[0mcol_index\u001b[0m\u001b[0;34m-\u001b[0m\u001b[0;36m1\u001b[0m\u001b[0;34m,\u001b[0m \u001b[0;34m]\u001b[0m \u001b[0;34m=\u001b[0m \u001b[0mmeans\u001b[0m\u001b[0;34m[\u001b[0m\u001b[0mpixel_cluster\u001b[0m\u001b[0;34m,\u001b[0m \u001b[0;34m]\u001b[0m\u001b[0;34m\u001b[0m\u001b[0m\n\u001b[0m\u001b[1;32m     78\u001b[0m \u001b[0;34m\u001b[0m\u001b[0m\n\u001b[1;32m     79\u001b[0m         \u001b[0mplt\u001b[0m\u001b[0;34m.\u001b[0m\u001b[0mimshow\u001b[0m\u001b[0;34m(\u001b[0m\u001b[0msegmented_img_rgb\u001b[0m\u001b[0;34m)\u001b[0m \u001b[0;31m# show segmented image\u001b[0m\u001b[0;34m\u001b[0m\u001b[0m\n",
      "\u001b[0;31mIndexError\u001b[0m: index 480 is out of bounds for axis 0 with size 480"
     ]
    }
   ],
   "source": [
    "# read data\n",
    "goby_img = misc.imread('images/goby.jpg')\n",
    "(W, H, N) = goby_img.shape\n",
    "data = goby_img.reshape((H * W, N))\n",
    "data_centers = np.mean(data, 0)\n",
    "data_scale = np.std(data, 0)\n",
    "data = pre.scale(data)\n",
    "\n",
    "# run EM\n",
    "EM(data, 'goby_', W, H, data_centers, data_scale)"
   ]
  },
  {
   "cell_type": "markdown",
   "metadata": {},
   "source": [
    "#### Segment the sunset image to 20 segments using five different start points, and display the result for each case. \n",
    "\n",
    "Is there much variation in the result?"
   ]
  },
  {
   "cell_type": "code",
   "execution_count": 78,
   "metadata": {
    "collapsed": false
   },
   "outputs": [
    {
     "name": "stderr",
     "output_type": "stream",
     "text": [
      "/Users/Zubin/anaconda/lib/python3.5/site-packages/sklearn/utils/validation.py:420: DataConversionWarning: Data with input dtype uint8 was converted to float64 by the scale function.\n",
      "  warnings.warn(msg, DataConversionWarning)\n"
     ]
    }
   ],
   "source": [
    "# read data\n",
    "goby_img = misc.imread('images/goby.jpg')\n",
    "(W, H, N) = goby_img.shape\n",
    "data = goby_img.reshape((H * W, N))\n",
    "data_centers = np.mean(data, 0)\n",
    "data_scale = np.std(data, 0)\n",
    "scaled_data = pre.scale(data)"
   ]
  },
  {
   "cell_type": "code",
   "execution_count": null,
   "metadata": {
    "collapsed": true
   },
   "outputs": [],
   "source": []
  }
 ],
 "metadata": {
  "anaconda-cloud": {},
  "kernelspec": {
   "display_name": "Python [Root]",
   "language": "python",
   "name": "Python [Root]"
  },
  "language_info": {
   "codemirror_mode": {
    "name": "ipython",
    "version": 3
   },
   "file_extension": ".py",
   "mimetype": "text/x-python",
   "name": "python",
   "nbconvert_exporter": "python",
   "pygments_lexer": "ipython3",
   "version": "3.5.2"
  }
 },
 "nbformat": 4,
 "nbformat_minor": 0
}
