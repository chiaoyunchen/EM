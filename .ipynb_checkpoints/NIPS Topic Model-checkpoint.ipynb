{
 "cells": [
  {
   "cell_type": "markdown",
   "metadata": {},
   "source": [
    "## NIPS Topic Model using Expectation Maximization (EM)\n",
    "\n",
    "The UCI Machine Learning dataset repository hosts several datasets recording word counts for documents [here](https://archive.ics.uci.edu/ml/datasets/Bag+of+Words). Here we will use the NIPS dataset.\n",
    "\n",
    "It provides (a) a table of word counts per document and (b) a vocabulary list for this dataset at the link.\n",
    "\n",
    "We implement the multinomial mixture of topics model using our own EM clustering code."
   ]
  },
  {
   "cell_type": "markdown",
   "metadata": {},
   "source": [
    "### Cluster to 30 topics, using a simple mixture of multinomial topic model."
   ]
  },
  {
   "cell_type": "code",
   "execution_count": 36,
   "metadata": {
    "collapsed": false
   },
   "outputs": [],
   "source": [
    "# import libs\n",
    "import numpy as np\n",
    "import matplotlib.pyplot as plt\n",
    "import sys\n",
    "import csv\n",
    "\n",
    "from math import log\n",
    "from scipy.sparse import csr_matrix\n",
    "from scipy.misc import logsumexp as LSE\n",
    "\n",
    "# read data\n",
    "D = 1500\n",
    "W = 12419\n",
    "NNZ = 746316\n",
    "J = 30 # number of topics/ clusters\n",
    "\n",
    "data = np.loadtxt(r'data/docword.nips.txt', dtype=int, delimiter=' ',skiprows=3)"
   ]
  },
  {
   "cell_type": "markdown",
   "metadata": {},
   "source": [
    "We use CSR matrix for optimal performance as the data matrix is sparse"
   ]
  },
  {
   "cell_type": "code",
   "execution_count": 27,
   "metadata": {
    "collapsed": false
   },
   "outputs": [],
   "source": [
    "# store data as numpy matrix\n",
    "# we subtract by 1 to make data zero-indexed\n",
    "row = data[:, 0] - 1\n",
    "col = data[:, 1] - 1\n",
    "values = data[:, 2]\n",
    "\n",
    "x = csr_matrix((values, (row, col)), shape=(D, W))"
   ]
  },
  {
   "cell_type": "code",
   "execution_count": 29,
   "metadata": {
    "collapsed": false
   },
   "outputs": [],
   "source": [
    "# p corresponds to probability of word in a topic\n",
    "p = np.ones((J, W))\n",
    "p = 1.0/W * p\n",
    "\n",
    "# pi corresponds to probability that document belongs to topic\n",
    "pi = np.ones(J)\n",
    "pi = 1.0/J * pi"
   ]
  },
  {
   "cell_type": "code",
   "execution_count": 35,
   "metadata": {
    "collapsed": false
   },
   "outputs": [
    {
     "data": {
      "text/plain": [
       "(30,)"
      ]
     },
     "execution_count": 35,
     "metadata": {},
     "output_type": "execute_result"
    }
   ],
   "source": [
    "# EM\n",
    "prev_q = sys.maxsize\n",
    "iternum = 0\n",
    "\n",
    "\n",
    "\n",
    "\n",
    "def w(i, j):\n",
    "    numerator = 1.0\n",
    "    denominator = 1.0\n",
    "    \n",
    "    for l in range(J):\n",
    "        for k in range(W):\n",
    "            temp = p[l,k]**x[i,k]\n",
    "            if l == j:\n",
    "                numerator *= temp\n",
    "            denominator *= temp\n",
    "        denominator *= pi[l]\n",
    "    \n",
    "    return numerator * pi[j]/ denominator\n",
    "\n",
    "\n",
    "\n",
    "\n",
    "\n",
    "\n",
    "while True:\n",
    "    # log likelihood\n",
    "    ll = x.dot(np.log(p).True) + np.log(pi)\n",
    "    \n",
    "    row_max = np.amax(ll, 1)\n",
    "    \n",
    "    terms = LSE((ll.T - row_max).T)\n",
    "    # unlist line\n",
    "    w = np.exp(w)\n",
    "    np.sum(w, axis=0) # max \n",
    "    \n",
    "    # calculate w_i,j matrix\n",
    "    w = np.zeros((D, J))\n",
    "    \n",
    "    \n",
    "    # E-Step\n",
    "    q = np.sum(( * w)\n",
    "    \n",
    "    \n",
    "    if abs(e - prev_expectation) < 100:\n",
    "        break\n",
    "    prev_expectation = e\n",
    "    for j in range(J):\n",
    "        p[j,] = max_p(j)\n",
    "        pi[j] = max_pi(j)\n",
    "    print(t, e)\n",
    "    iternum += 1\n",
    "\n",
    "\n",
    "# E-Step computation\n",
    "def expectation():\n",
    "    \n",
    "    \n",
    "    \n",
    "    Q = 0.0\n",
    "    for i in range(D):\n",
    "        print(\"expectation round\", i)\n",
    "        for j in range(J):\n",
    "            Q += (log(pi[j]) + np.dot(x[i,], np.log(p[j,]))) * w(i,j)\n",
    "    return Q\n",
    "\n",
    "# M-Step\n",
    "def max_p(j):\n",
    "    numer = 0\n",
    "    denom = 0\n",
    "    for i in range(D):\n",
    "        w_ij = w(i,j)\n",
    "        numer += x[i,] * w_ij\n",
    "        denom += np.sum(x[i,]) * w_ij\n",
    "    return numer/denom\n",
    "\n",
    "def max_pi(j):\n",
    "    pi_j = 0\n",
    "    for i in range(D):\n",
    "        pi_j += w(i,j)\n",
    "    return pi_j/ D"
   ]
  },
  {
   "cell_type": "code",
   "execution_count": 106,
   "metadata": {
    "collapsed": false
   },
   "outputs": [
    {
     "name": "stdout",
     "output_type": "stream",
     "text": [
      "expectation round 0\n"
     ]
    },
    {
     "name": "stderr",
     "output_type": "stream",
     "text": [
      "/Users/Zubin/anaconda/lib/python3.5/site-packages/ipykernel/__main__.py:24: RuntimeWarning: invalid value encountered in double_scalars\n"
     ]
    },
    {
     "name": "stdout",
     "output_type": "stream",
     "text": [
      "expectation round 1\n",
      "expectation round 2\n",
      "expectation round 3\n",
      "expectation round 4\n",
      "expectation round 5\n",
      "expectation round 6\n",
      "expectation round 7\n",
      "expectation round 8\n",
      "expectation round 9\n",
      "expectation round 10\n",
      "expectation round 11\n",
      "expectation round 12\n",
      "expectation round 13\n",
      "expectation round 14\n",
      "expectation round 15\n",
      "expectation round 16\n",
      "expectation round 17\n",
      "expectation round 18\n",
      "expectation round 19\n",
      "expectation round 20\n",
      "expectation round 21\n",
      "expectation round 22\n",
      "expectation round 23\n",
      "expectation round 24\n",
      "expectation round 25\n",
      "expectation round 26\n",
      "expectation round 27\n",
      "expectation round 28\n",
      "expectation round 29\n",
      "expectation round 30\n",
      "expectation round 31\n",
      "expectation round 32\n",
      "expectation round 33\n",
      "expectation round 34\n",
      "expectation round 35\n",
      "expectation round 36\n",
      "expectation round 37\n"
     ]
    },
    {
     "ename": "KeyboardInterrupt",
     "evalue": "",
     "output_type": "error",
     "traceback": [
      "\u001b[0;31m---------------------------------------------------------------------------\u001b[0m",
      "\u001b[0;31mKeyboardInterrupt\u001b[0m                         Traceback (most recent call last)",
      "\u001b[0;32m<ipython-input-106-cc2a93a969a5>\u001b[0m in \u001b[0;36m<module>\u001b[0;34m()\u001b[0m\n\u001b[1;32m      4\u001b[0m \u001b[0;34m\u001b[0m\u001b[0m\n\u001b[1;32m      5\u001b[0m \u001b[0;32mwhile\u001b[0m \u001b[0;32mTrue\u001b[0m\u001b[0;34m:\u001b[0m\u001b[0;34m\u001b[0m\u001b[0m\n\u001b[0;32m----> 6\u001b[0;31m     \u001b[0me\u001b[0m \u001b[0;34m=\u001b[0m \u001b[0mexpectation\u001b[0m\u001b[0;34m(\u001b[0m\u001b[0;34m)\u001b[0m\u001b[0;34m\u001b[0m\u001b[0m\n\u001b[0m\u001b[1;32m      7\u001b[0m     \u001b[0;32mif\u001b[0m \u001b[0mabs\u001b[0m\u001b[0;34m(\u001b[0m\u001b[0me\u001b[0m \u001b[0;34m-\u001b[0m \u001b[0mprev_expectation\u001b[0m\u001b[0;34m)\u001b[0m \u001b[0;34m<\u001b[0m \u001b[0;36m100\u001b[0m\u001b[0;34m:\u001b[0m\u001b[0;34m\u001b[0m\u001b[0m\n\u001b[1;32m      8\u001b[0m         \u001b[0;32mbreak\u001b[0m\u001b[0;34m\u001b[0m\u001b[0m\n",
      "\u001b[0;32m<ipython-input-105-fcf57a220136>\u001b[0m in \u001b[0;36mexpectation\u001b[0;34m()\u001b[0m\n\u001b[1;32m     30\u001b[0m         \u001b[0mprint\u001b[0m\u001b[0;34m(\u001b[0m\u001b[0;34m\"expectation round\"\u001b[0m\u001b[0;34m,\u001b[0m \u001b[0mi\u001b[0m\u001b[0;34m)\u001b[0m\u001b[0;34m\u001b[0m\u001b[0m\n\u001b[1;32m     31\u001b[0m         \u001b[0;32mfor\u001b[0m \u001b[0mj\u001b[0m \u001b[0;32min\u001b[0m \u001b[0mrange\u001b[0m\u001b[0;34m(\u001b[0m\u001b[0mJ\u001b[0m\u001b[0;34m)\u001b[0m\u001b[0;34m:\u001b[0m\u001b[0;34m\u001b[0m\u001b[0m\n\u001b[0;32m---> 32\u001b[0;31m             \u001b[0mQ\u001b[0m \u001b[0;34m+=\u001b[0m \u001b[0;34m(\u001b[0m\u001b[0mlog\u001b[0m\u001b[0;34m(\u001b[0m\u001b[0mpi\u001b[0m\u001b[0;34m[\u001b[0m\u001b[0mj\u001b[0m\u001b[0;34m]\u001b[0m\u001b[0;34m)\u001b[0m \u001b[0;34m+\u001b[0m \u001b[0mnp\u001b[0m\u001b[0;34m.\u001b[0m\u001b[0mdot\u001b[0m\u001b[0;34m(\u001b[0m\u001b[0mx\u001b[0m\u001b[0;34m[\u001b[0m\u001b[0mi\u001b[0m\u001b[0;34m,\u001b[0m\u001b[0;34m]\u001b[0m\u001b[0;34m,\u001b[0m \u001b[0mnp\u001b[0m\u001b[0;34m.\u001b[0m\u001b[0mlog\u001b[0m\u001b[0;34m(\u001b[0m\u001b[0mp\u001b[0m\u001b[0;34m[\u001b[0m\u001b[0mj\u001b[0m\u001b[0;34m,\u001b[0m\u001b[0;34m]\u001b[0m\u001b[0;34m)\u001b[0m\u001b[0;34m)\u001b[0m\u001b[0;34m)\u001b[0m \u001b[0;34m*\u001b[0m \u001b[0mw\u001b[0m\u001b[0;34m(\u001b[0m\u001b[0mi\u001b[0m\u001b[0;34m,\u001b[0m\u001b[0mj\u001b[0m\u001b[0;34m)\u001b[0m\u001b[0;34m\u001b[0m\u001b[0m\n\u001b[0m\u001b[1;32m     33\u001b[0m     \u001b[0;32mreturn\u001b[0m \u001b[0mQ\u001b[0m\u001b[0;34m\u001b[0m\u001b[0m\n\u001b[1;32m     34\u001b[0m \u001b[0;34m\u001b[0m\u001b[0m\n",
      "\u001b[0;32m<ipython-input-105-fcf57a220136>\u001b[0m in \u001b[0;36mw\u001b[0;34m(i, j)\u001b[0m\n\u001b[1;32m     16\u001b[0m     \u001b[0;32mfor\u001b[0m \u001b[0ml\u001b[0m \u001b[0;32min\u001b[0m \u001b[0mrange\u001b[0m\u001b[0;34m(\u001b[0m\u001b[0mJ\u001b[0m\u001b[0;34m)\u001b[0m\u001b[0;34m:\u001b[0m\u001b[0;34m\u001b[0m\u001b[0m\n\u001b[1;32m     17\u001b[0m         \u001b[0;32mfor\u001b[0m \u001b[0mk\u001b[0m \u001b[0;32min\u001b[0m \u001b[0mrange\u001b[0m\u001b[0;34m(\u001b[0m\u001b[0mW\u001b[0m\u001b[0;34m)\u001b[0m\u001b[0;34m:\u001b[0m\u001b[0;34m\u001b[0m\u001b[0m\n\u001b[0;32m---> 18\u001b[0;31m             \u001b[0mtemp\u001b[0m \u001b[0;34m=\u001b[0m \u001b[0mp\u001b[0m\u001b[0;34m[\u001b[0m\u001b[0ml\u001b[0m\u001b[0;34m,\u001b[0m\u001b[0mk\u001b[0m\u001b[0;34m]\u001b[0m\u001b[0;34m**\u001b[0m\u001b[0mx\u001b[0m\u001b[0;34m[\u001b[0m\u001b[0mi\u001b[0m\u001b[0;34m,\u001b[0m\u001b[0mk\u001b[0m\u001b[0;34m]\u001b[0m\u001b[0;34m\u001b[0m\u001b[0m\n\u001b[0m\u001b[1;32m     19\u001b[0m             \u001b[0;32mif\u001b[0m \u001b[0ml\u001b[0m \u001b[0;34m==\u001b[0m \u001b[0mj\u001b[0m\u001b[0;34m:\u001b[0m\u001b[0;34m\u001b[0m\u001b[0m\n\u001b[1;32m     20\u001b[0m                 \u001b[0mnumerator\u001b[0m \u001b[0;34m*=\u001b[0m \u001b[0mtemp\u001b[0m\u001b[0;34m\u001b[0m\u001b[0m\n",
      "\u001b[0;31mKeyboardInterrupt\u001b[0m: "
     ]
    }
   ],
   "source": [
    "# EM\n",
    "prev_expectation = sys.maxsize\n",
    "t = 0\n",
    "\n",
    "while True:\n",
    "    e = expectation()\n",
    "    if abs(e - prev_expectation) < 100:\n",
    "        break\n",
    "    prev_expectation = e\n",
    "    for j in range(J):\n",
    "        p[j,] = max_p(j)\n",
    "        pi[j] = max_pi(j)\n",
    "    print(t, e)\n",
    "    t += 1"
   ]
  },
  {
   "cell_type": "markdown",
   "metadata": {},
   "source": [
    "### Graph showing, for each topic, the probability with which the topic is selected.\n"
   ]
  },
  {
   "cell_type": "code",
   "execution_count": null,
   "metadata": {
    "collapsed": true
   },
   "outputs": [],
   "source": []
  },
  {
   "cell_type": "markdown",
   "metadata": {},
   "source": [
    "### Table showing, for each topic, the 10 words with the highest probability for that topic."
   ]
  },
  {
   "cell_type": "code",
   "execution_count": null,
   "metadata": {
    "collapsed": true
   },
   "outputs": [],
   "source": []
  }
 ],
 "metadata": {
  "kernelspec": {
   "display_name": "Python [Root]",
   "language": "python",
   "name": "Python [Root]"
  },
  "language_info": {
   "codemirror_mode": {
    "name": "ipython",
    "version": 3
   },
   "file_extension": ".py",
   "mimetype": "text/x-python",
   "name": "python",
   "nbconvert_exporter": "python",
   "pygments_lexer": "ipython3",
   "version": "3.5.2"
  }
 },
 "nbformat": 4,
 "nbformat_minor": 0
}
