{
 "cells": [
  {
   "cell_type": "markdown",
   "metadata": {},
   "source": [
    "## NIPS Topic Model using Expectation Maximization (EM)\n",
    "\n",
    "The UCI Machine Learning dataset repository hosts several datasets recording word counts for documents [here](https://archive.ics.uci.edu/ml/datasets/Bag+of+Words). Here we will use the NIPS dataset.\n",
    "\n",
    "It provides (a) a table of word counts per document and (b) a vocabulary list for this dataset at the link.\n",
    "\n",
    "We implement the multinomial mixture of topics model using our own EM clustering code."
   ]
  },
  {
   "cell_type": "markdown",
   "metadata": {},
   "source": [
    "### Cluster to 30 topics, using a simple mixture of multinomial topic model."
   ]
  },
  {
   "cell_type": "code",
   "execution_count": 221,
   "metadata": {
    "collapsed": false
   },
   "outputs": [],
   "source": [
    "# import libs\n",
    "import numpy as np\n",
    "import matplotlib.pyplot as plt\n",
    "import sys\n",
    "import csv\n",
    "\n",
    "from math import log\n",
    "from scipy.sparse import csr_matrix\n",
    "from sklearn.cluster import KMeans\n",
    "\n",
    "# read data\n",
    "D = 1500\n",
    "W = 12419\n",
    "NNZ = 746316\n",
    "J = 30 # number of topics/ clusters\n",
    "CONVERGENCE_THRESHOLD = 0.0005\n",
    "SMOOTHING_CONST = 0.0002\n",
    "\n",
    "data = np.loadtxt(r'data/docword.nips.txt', dtype=int, delimiter=' ',skiprows=3)"
   ]
  },
  {
   "cell_type": "markdown",
   "metadata": {},
   "source": [
    "We use CSR matrix for optimal performance as the data matrix is sparse"
   ]
  },
  {
   "cell_type": "code",
   "execution_count": 222,
   "metadata": {
    "collapsed": false
   },
   "outputs": [],
   "source": [
    "# store data as numpy matrix\n",
    "# we subtract by 1 to make data zero-indexed\n",
    "row = data[:, 0] - 1\n",
    "col = data[:, 1] - 1\n",
    "values = data[:, 2]\n",
    "\n",
    "x = csr_matrix((values, (row, col)), shape=(D, W))\n",
    "\n",
    "# CSR matrix to numpy\n",
    "X = x.toarray()"
   ]
  },
  {
   "cell_type": "markdown",
   "metadata": {},
   "source": [
    "Here we start with uniform distribution of p and pi.\n",
    "Rather a better way might be to use results from k-means clustering (a variant of EM) to get rough clusters.\n",
    "\n",
    "**Caution**: pi should not have a zero-element. An infinitesimal smoothing must be applied in such situations, else no documents may be assigned to the corresponding topic."
   ]
  },
  {
   "cell_type": "code",
   "execution_count": 223,
   "metadata": {
    "collapsed": false
   },
   "outputs": [],
   "source": [
    "# p corresponds to probability of word in a topic\n",
    "p = np.ones((J, W))\n",
    "p = 1.0/W * p\n",
    "\n",
    "# pi corresponds to probability that document belongs to topic\n",
    "pi = np.ones(J)\n",
    "pi = 1.0/J * pi"
   ]
  },
  {
   "cell_type": "markdown",
   "metadata": {},
   "source": [
    "Using k-means for better initial values of p's and pi's"
   ]
  },
  {
   "cell_type": "code",
   "execution_count": 224,
   "metadata": {
    "collapsed": false
   },
   "outputs": [],
   "source": [
    "est = KMeans(n_clusters=30)\n",
    "est.fit(X)\n",
    "topic_id = est.labels_"
   ]
  },
  {
   "cell_type": "code",
   "execution_count": 225,
   "metadata": {
    "collapsed": false
   },
   "outputs": [],
   "source": [
    "# get initial p from k-means\n",
    "for j in range(J):\n",
    "    topic_j_docs = X[topic_id == j, :]\n",
    "    topic_j_word_dist = np.sum(topic_j_docs, 0)\n",
    "    p[j,] = topic_j_word_dist / np.sum(topic_j_word_dist)"
   ]
  },
  {
   "cell_type": "code",
   "execution_count": 226,
   "metadata": {
    "collapsed": false
   },
   "outputs": [
    {
     "data": {
      "text/plain": [
       "True"
      ]
     },
     "execution_count": 226,
     "metadata": {},
     "output_type": "execute_result"
    }
   ],
   "source": [
    "# get initial pi from k-means\n",
    "pi = np.array([np.sum(topic_id == i) for i in range(J)])\n",
    "pi = pi / float(D)\n",
    "\n",
    "# check that there are no zero values in pi's\n",
    "0 not in pi"
   ]
  },
  {
   "cell_type": "code",
   "execution_count": 227,
   "metadata": {
    "collapsed": true
   },
   "outputs": [],
   "source": [
    "def logsumexp(X):\n",
    "    \"\"\"\n",
    "    log sum exp trick for approximation to avoid underflow/ overflow\n",
    "    :param X: data matrix\n",
    "    :return: log sum exp applied to each row of input matrix X\n",
    "    \"\"\"\n",
    "    x_max = X.max(1)\n",
    "    return x_max + np.log(np.exp(X - x_max[:, None]).sum(1))"
   ]
  },
  {
   "cell_type": "markdown",
   "metadata": {},
   "source": [
    "In the *E-Step*, we compute:\n",
    "\n",
    "In the *M-Step*, we compute:\n",
    "\n",
    "We keep a list of expectation value *q* so we can visualize change in q as we iterate through *EM*\n",
    "\n",
    "*Note: There are several ways to check for convergences of EM. We use difference between expectations in consecutive iterations as measure of convergence* "
   ]
  },
  {
   "cell_type": "code",
   "execution_count": 228,
   "metadata": {
    "collapsed": false
   },
   "outputs": [
    {
     "name": "stderr",
     "output_type": "stream",
     "text": [
      "/Users/Zubin/anaconda/lib/python3.5/site-packages/ipykernel/__main__.py:7: RuntimeWarning: divide by zero encountered in log\n",
      "/Users/Zubin/anaconda/lib/python3.5/site-packages/ipykernel/__main__.py:14: RuntimeWarning: invalid value encountered in multiply\n"
     ]
    },
    {
     "name": "stdout",
     "output_type": "stream",
     "text": [
      "nan\n",
      "-14332371.1192\n",
      "-14322961.6708\n",
      "-14322175.1692\n",
      "-14321587.1915\n",
      "-14321587.2074\n",
      "-14321587.2329\n",
      "-14321587.2507\n",
      "-14321587.2105\n",
      "-14321587.0143\n",
      "-14321586.6015\n",
      "-14321586.1172\n",
      "-14321585.7775\n",
      "-14321585.6081\n",
      "-14321585.5358\n",
      "-14321585.5067\n",
      "-14321585.4951\n",
      "-14321585.4906\n",
      "-14321585.4888\n",
      "-14321585.4882\n",
      "-14321585.4879\n",
      "EM finished after 21 iterations\n"
     ]
    }
   ],
   "source": [
    "# EM\n",
    "iter_count = 1\n",
    "list_of_q = [sys.maxsize]\n",
    "\n",
    "while True:\n",
    "    # log likelihood\n",
    "    ll = x.dot(np.log(p).T) + np.log(pi)\n",
    "    \n",
    "    # calculate w_i,j matrix\n",
    "    w = np.exp((ll.T - logsumexp(ll)).T)\n",
    "\n",
    "    ### E-Step ###\n",
    "    \n",
    "    q = np.sum(ll * w)\n",
    "    print(q)\n",
    "    list_of_q.append(q)\n",
    "    \n",
    "    # check for convergence\n",
    "    if abs(q - list_of_q[-2]) < CONVERGENCE_THRESHOLD:\n",
    "        break\n",
    "    \n",
    "    ### M-Step ###\n",
    "    \n",
    "    # update p\n",
    "    for j in range(J):\n",
    "        numerator = np.sum(np.multiply(X.T, w[:,j]).T, 0)\n",
    "        denominator = np.sum(np.sum(X, 1) * w[:,j])\n",
    "        p[j,] = (numerator + SMOOTHING_CONST)/(denominator + (SMOOTHING_CONST * W))\n",
    "        \n",
    "    # update pi\n",
    "    pi = np.sum(w, 0)/ D\n",
    "    \n",
    "    # print(\"finished iteration\", iter_count)\n",
    "    iter_count += 1\n",
    "\n",
    "print(\"EM finished after \" + str(iter_count) + \" iterations\")"
   ]
  },
  {
   "cell_type": "markdown",
   "metadata": {},
   "source": [
    "### Graph showing, for each topic, the probability with which the topic is selected.\n"
   ]
  },
  {
   "cell_type": "code",
   "execution_count": 262,
   "metadata": {
    "collapsed": false
   },
   "outputs": [
    {
     "data": {
      "image/png": "[encoded data removed]",
      "text/plain": [
       "<matplotlib.figure.Figure at 0x14b439cf8>"
      ]
     },
     "metadata": {},
     "output_type": "display_data"
    }
   ],
   "source": [
    "%matplotlib inline\n",
    "plt.plot([i for i in range(1,31)], pi)\n",
    "plt.xlabel(\"Topic ID\")\n",
    "plt.ylabel(\"Probability of Topic\")\n",
    "plt.show()"
   ]
  },
  {
   "cell_type": "markdown",
   "metadata": {},
   "source": [
    "Note that the y-axis/ probabilities in above graph do not range from 0 to 1"
   ]
  },
  {
   "cell_type": "markdown",
   "metadata": {},
   "source": [
    "### Table showing, for each topic, the 10 words with the highest probability for that topic."
   ]
  },
  {
   "cell_type": "code",
   "execution_count": 253,
   "metadata": {
    "collapsed": false
   },
   "outputs": [
    {
     "name": "stdout",
     "output_type": "stream",
     "text": [
      "Topic 0: ['model', 'children', 'set', 'rules', 'trained', 'network', 'geometry', 'similar', 'learning', 'logo']\n",
      "Topic 1: ['algorithm', 'function', 'learning', 'problem', 'set', 'vector', 'error', 'result', 'network', 'number']\n",
      "Topic 2: ['learning', 'task', 'network', 'neural', 'training', 'net', 'neuron', 'stack', 'function', 'input']\n",
      "Topic 3: ['model', 'control', 'learning', 'system', 'movement', 'dynamic', 'forward', 'network', 'motor', 'controller']\n",
      "Topic 4: ['object', 'model', 'view', 'recognition', 'network', 'image', 'images', 'layer', 'set', 'unit']\n",
      "Topic 5: ['error', 'learning', 'training', 'network', 'set', 'weight', 'generalization', 'function', 'input', 'noise']\n",
      "Topic 6: ['network', 'neural', 'input', 'training', 'output', 'unit', 'learning', 'set', 'system', 'problem']\n",
      "Topic 7: ['model', 'data', 'network', 'parameter', 'set', 'algorithm', 'neural', 'learning', 'number', 'function']\n",
      "Topic 8: ['distribution', 'model', 'gaussian', 'function', 'network', 'mean', 'parameter', 'data', 'method', 'approximation']\n",
      "Topic 9: ['cell', 'direction', 'head', 'rat', 'firing', 'model', 'rate', 'place', 'information', 'field']\n",
      "Topic 10: ['model', 'system', 'network', 'neural', 'function', 'algorithm', 'information', 'data', 'result', 'signal']\n",
      "Topic 11: ['network', 'pattern', 'input', 'model', 'memory', 'unit', 'learning', 'neural', 'system', 'function']\n",
      "Topic 12: ['cell', 'input', 'model', 'neuron', 'response', 'network', 'system', 'visual', 'field', 'spatial']\n",
      "Topic 13: ['neuron', 'network', 'model', 'neural', 'input', 'system', 'function', 'circuit', 'cell', 'current']\n",
      "Topic 14: ['word', 'speech', 'recognition', 'system', 'network', 'training', 'model', 'hmm', 'neural', 'set']\n",
      "Topic 15: ['component', 'contribution', 'unit', 'net', 'network', 'input', 'problem', 'spiral', 'output', 'hidden']\n",
      "Topic 16: ['unit', 'network', 'input', 'hidden', 'learning', 'output', 'weight', 'function', 'layer', 'training']\n",
      "Topic 17: ['learning', 'action', 'function', 'policy', 'algorithm', 'problem', 'optimal', 'system', 'reinforcement', 'step']\n",
      "Topic 18: ['weight', 'network', 'function', 'input', 'learning', 'output', 'neural', 'layer', 'unit', 'set']\n",
      "Topic 19: ['tangent', 'distance', 'transformation', 'vector', 'set', 'pattern', 'algorithm', 'model', 'method', 'network']\n",
      "Topic 20: ['data', 'function', 'set', 'point', 'algorithm', 'model', 'learning', 'vector', 'space', 'problem']\n",
      "Topic 21: ['classifier', 'training', 'network', 'set', 'error', 'problem', 'pattern', 'neural', 'rbf', 'data']\n",
      "Topic 22: ['skill', 'learning', 'task', 'action', 'reinforcement', 'loss', 'policies', 'function', 'algorithm', 'domain']\n",
      "Topic 23: ['system', 'network', 'neural', 'point', 'dynamic', 'function', 'input', 'model', 'parameter', 'set']\n",
      "Topic 24: ['function', 'threshold', 'network', 'neural', 'size', 'input', 'circuit', 'weight', 'number', 'result']\n",
      "Topic 25: ['part', 'tag', 'features', 'rock', 'feature', 'unit', 'magic', 'object', 'principle', 'regularity']\n",
      "Topic 26: ['network', 'neural', 'input', 'training', 'data', 'set', 'system', 'output', 'learning', 'function']\n",
      "Topic 27: ['motion', 'visual', 'model', 'neuron', 'direction', 'cell', 'field', 'input', 'unit', 'eye']\n",
      "Topic 28: ['neuron', 'spike', 'input', 'model', 'firing', 'rate', 'synaptic', 'signal', 'cell', 'noise']\n",
      "Topic 29: ['learning', 'system', 'model', 'network', 'reinforcement', 'control', 'task', 'function', 'training', 'trial']\n"
     ]
    }
   ],
   "source": [
    "with open(\"data/vocab.nips.txt\") as f:\n",
    "    word_dict = f.readlines()\n",
    "\n",
    "num_words = 10\n",
    "\n",
    "for j in range(J):\n",
    "    ind = np.argpartition(p[j,], -num_words)[-num_words:]\n",
    "    ind = ind[np.argsort(p[j, ind])][::-1] # sorted indices\n",
    "    print(\"Topic \" + str(j) + \":\", [word_dict[i].replace('\\n','') for i in ind])"
   ]
  },
  {
   "cell_type": "markdown",
   "metadata": {},
   "source": [
    "Above we can see the most frequent ten words in each topic"
   ]
  }
 ],
 "metadata": {
  "anaconda-cloud": {
   "environment": null,
   "summary": "EM Topic Models",
   "url": "https://anaconda.org/zpahuja/nips-topic-model"
  },
  "kernelspec": {
   "display_name": "Python [Root]",
   "language": "python",
   "name": "Python [Root]"
  },
  "language_info": {
   "codemirror_mode": {
    "name": "ipython",
    "version": 3
   },
   "file_extension": ".py",
   "mimetype": "text/x-python",
   "name": "python",
   "nbconvert_exporter": "python",
   "pygments_lexer": "ipython3",
   "version": "3.5.2"
  }
 },
 "nbformat": 4,
 "nbformat_minor": 0
}
