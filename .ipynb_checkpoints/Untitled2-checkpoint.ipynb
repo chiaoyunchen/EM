{
 "cells": [
  {
   "cell_type": "code",
   "execution_count": 3,
   "metadata": {
    "collapsed": false,
    "scrolled": true
   },
   "outputs": [
    {
     "name": "stdout",
     "output_type": "stream",
     "text": [
      "Requirement already satisfied: Pillow in ./lib/python3.6/site-packages\n",
      "Requirement already satisfied: olefile in ./lib/python3.6/site-packages (from Pillow)\n"
     ]
    }
   ],
   "source": [
    "!pip install Pillow\n",
    "\n",
    "import matplotlib.pyplot as plt\n",
    "import matplotlib.image as mpimg\n",
    "import numpy as np\n",
    "from sklearn import preprocessing as pre\n",
    "\n",
    "%matplotlib inline"
   ]
  },
  {
   "cell_type": "code",
   "execution_count": 5,
   "metadata": {
    "collapsed": false
   },
   "outputs": [
    {
     "name": "stdout",
     "output_type": "stream",
     "text": [
      "/Users/ajayshekar/anaconda\r\n"
     ]
    }
   ],
   "source": [
    "!pwd\n",
    "setwd"
   ]
  },
  {
   "cell_type": "code",
   "execution_count": 7,
   "metadata": {
    "collapsed": false
   },
   "outputs": [
    {
     "data": {
      "text/plain": [
       "array([[[151, 191, 105],\n",
       "        [150, 190, 104],\n",
       "        [149, 189, 103],\n",
       "        ..., \n",
       "        [139, 171, 104],\n",
       "        [138, 170, 103],\n",
       "        [137, 169, 102]],\n",
       "\n",
       "       [[152, 190, 105],\n",
       "        [152, 190, 105],\n",
       "        [151, 189, 102],\n",
       "        ..., \n",
       "        [139, 171, 104],\n",
       "        [138, 170, 103],\n",
       "        [138, 170, 103]],\n",
       "\n",
       "       [[155, 191, 104],\n",
       "        [154, 190, 102],\n",
       "        [153, 189, 101],\n",
       "        ..., \n",
       "        [137, 172, 104],\n",
       "        [137, 172, 104],\n",
       "        [137, 172, 104]],\n",
       "\n",
       "       ..., \n",
       "       [[ 28,  57,   3],\n",
       "        [ 28,  57,   3],\n",
       "        [ 28,  57,   3],\n",
       "        ..., \n",
       "        [100, 175, 194],\n",
       "        [ 90, 160, 185],\n",
       "        [ 84, 151, 177]],\n",
       "\n",
       "       [[ 28,  59,   2],\n",
       "        [ 29,  58,   2],\n",
       "        [ 29,  58,   4],\n",
       "        ..., \n",
       "        [ 99, 172, 189],\n",
       "        [ 89, 157, 178],\n",
       "        [ 82, 148, 172]],\n",
       "\n",
       "       [[ 28,  59,   2],\n",
       "        [ 28,  59,   2],\n",
       "        [ 29,  58,   2],\n",
       "        ..., \n",
       "        [ 99, 171, 186],\n",
       "        [ 89, 157, 178],\n",
       "        [ 81, 147, 171]]], dtype=uint8)"
      ]
     },
     "execution_count": 7,
     "metadata": {},
     "output_type": "execute_result"
    }
   ],
   "source": [
    "fish = mpimg.imread(\"/Users/ajayshekar/Documents/cs498aml/hw6/RobertMixed03.jpg\")\n",
    "fish.shape\n",
    "fish"
   ]
  },
  {
   "cell_type": "code",
   "execution_count": 33,
   "metadata": {
    "collapsed": false
   },
   "outputs": [
    {
     "name": "stderr",
     "output_type": "stream",
     "text": [
      "/Users/ajayshekar/anaconda/lib/python3.6/site-packages/sklearn/utils/validation.py:429: DataConversionWarning: Data with input dtype uint8 was converted to float64 by the scale function.\n",
      "  warnings.warn(msg, _DataConversionWarning)\n"
     ]
    }
   ],
   "source": [
    "image = fish\n",
    "segment = 10\n",
    "clusters = segment\n",
    "break_point = 0.001\n",
    "npixel = fish.shape[0]*fish.shape[1]\n",
    "height = fish.shape[0]\n",
    "width = fish.shape[1]\n",
    "\n",
    "flat_image = np.ndarray.flatten(image)\n",
    "pixels = flat_image.reshape(npixel, 3)\n",
    "\n",
    "scaled_pixels = pre.scale(pixels)\n",
    "\n",
    "# K-means to estimate initial means \n",
    "# and pis \n",
    "means = np.ones((segment, 3))-0.5\n",
    "pi = np.ones(segment) * 1/segment\n",
    "\n",
    "X = scaled_pixels\n"
   ]
  },
  {
   "cell_type": "code",
   "execution_count": 69,
   "metadata": {
    "collapsed": false
   },
   "outputs": [
    {
     "name": "stdout",
     "output_type": "stream",
     "text": [
      "-11681541.4057\n",
      "[-11681541.405694598]\n",
      "-11681541.4057\n",
      "[-11681541.405694598, -11681541.405694598]\n"
     ]
    }
   ],
   "source": [
    "Qs = []\n",
    "while(True):\n",
    "    inner = np.zeros((npixel, clusters))\n",
    "    for i in range(clusters):\n",
    "        dist = scaled_pixels - means[i,:]\n",
    "        inner[:,i] = (-0.5) * np.sum((dist ** 2), axis=1)\n",
    "    # calculate wijs\n",
    "    top = np.exp(inner) @ np.diagflat(pi)\n",
    "    bottom = np.sum(top, axis=1)\n",
    "    wijs = np.array([top[k]/bottom[k] for k in range(len(top))])\n",
    "    #calculate Q's\n",
    "    Q = np.sum(np.dot((inner + np.log(pi)).T,wijs))\n",
    "    print(Q)\n",
    "    Qs.append(Q)\n",
    "    #M Step\n",
    "    for j in range(clusters):\n",
    "        top = np.sum(np.dot(scaled_pixels.T, wijs[:,j]), axis=0)\n",
    "        bottom = np.sum(wijs[:,j])\n",
    "        means[j,:] = top/bottom\n",
    "        pi[j] = sum(wijs[:,j]) / npixel\n",
    "    print(Qs)\n",
    "    if len(Qs) > 1:\n",
    "        if (Q - Qs[len(Qs) - 2]) < break_point:\n",
    "            break\n",
    "    \n",
    "    # need to create new image\n"
   ]
  },
  {
   "cell_type": "code",
   "execution_count": 44,
   "metadata": {
    "collapsed": false
   },
   "outputs": [
    {
     "name": "stdout",
     "output_type": "stream",
     "text": [
      "(307200, 3) (10, 3) (10,)\n"
     ]
    },
    {
     "data": {
      "text/plain": [
       "array([[ 0.5,  0.5,  0.5],\n",
       "       [ 0.5,  0.5,  0.5],\n",
       "       [ 0.5,  0.5,  0.5],\n",
       "       [ 0.5,  0.5,  0.5],\n",
       "       [ 0.5,  0.5,  0.5],\n",
       "       [ 0.5,  0.5,  0.5],\n",
       "       [ 0.5,  0.5,  0.5],\n",
       "       [ 0.5,  0.5,  0.5],\n",
       "       [ 0.5,  0.5,  0.5],\n",
       "       [ 0.5,  0.5,  0.5]])"
      ]
     },
     "execution_count": 44,
     "metadata": {},
     "output_type": "execute_result"
    }
   ],
   "source": [
    "print (X.shape, means.shape, pi.shape)\n",
    "means"
   ]
  },
  {
   "cell_type": "code",
   "execution_count": 11,
   "metadata": {
    "collapsed": false
   },
   "outputs": [],
   "source": [
    "# inner = 0\n",
    "    \n",
    "# smoothing = 1\n",
    "    \n",
    "# for i in range(npixel):\n",
    "#         for j in range(segment):\n",
    "#             temp = X[i]-means[j]\n",
    "#             n = -1/2 * (temp.T @ temp)\n",
    "\n",
    "#             d = 0\n",
    "#             for k in range(segment):\n",
    "#                 temp3 = X[i]-means[k]\n",
    "#                 temp4 = -1/2 * (temp3.T @ temp3)\n",
    "#                 d += np.exp(temp4) * pi[k]\n",
    "            \n",
    "#             wij = (np.exp(n))/(d+smoothing)\n",
    "            \n",
    "#             inner += (n + np.log(pi[k]))*wij\n",
    "            \n"
   ]
  },
  {
   "cell_type": "code",
   "execution_count": 66,
   "metadata": {
    "collapsed": false
   },
   "outputs": [
    {
     "name": "stdout",
     "output_type": "stream",
     "text": [
      "-12833541.4057\n"
     ]
    }
   ],
   "source": [
    "inner = np.zeros((npixel, clusters))\n",
    "for i in range(clusters):\n",
    "    dist = scaled_pixels - means[i,:]\n",
    "    inner[:,i] = (-0.5) * np.sum((dist ** 2), axis=1)\n",
    "# calculate wijs\n",
    "top = np.exp(inner) @ np.diagflat(pi)\n",
    "bottom = np.sum(top, axis=1)\n",
    "wijs = np.array([top[k]/bottom[k] for k in range(len(top))])\n",
    "#calculate Q's\n",
    "Q = np.sum(np.dot((inner + np.log(pi)).T,wijs))\n",
    "print(Q)\n",
    "\n",
    "#M Step\n",
    "for j in range(clusters):\n",
    "    top = np.sum(np.dot(scaled_pixels.T, wijs[:,j]), axis=0)\n",
    "    bottom = np.sum(wijs[:,j])\n",
    "    means[j,:] = top/bottom\n",
    "    pi[j] = sum(wijs[:,j]) / npixel"
   ]
  },
  {
   "cell_type": "code",
   "execution_count": 36,
   "metadata": {
    "collapsed": false
   },
   "outputs": [
    {
     "data": {
      "text/plain": [
       "array([ 69860.75,  68972.75,  68090.75, ...,  73182.75,  63830.75,\n",
       "        57012.75])"
      ]
     },
     "execution_count": 36,
     "metadata": {},
     "output_type": "execute_result"
    }
   ],
   "source": [
    "d = pixels - means[0,]\n",
    "d ** 2\n",
    "np.sum(d**2, axis = 1)\n"
   ]
  },
  {
   "cell_type": "code",
   "execution_count": 65,
   "metadata": {
    "collapsed": false
   },
   "outputs": [
    {
     "data": {
      "text/plain": [
       "array([4, 6])"
      ]
     },
     "execution_count": 65,
     "metadata": {},
     "output_type": "execute_result"
    }
   ],
   "source": [
    "np.sum([[1,2],[3,4]], axis = 0)"
   ]
  },
  {
   "cell_type": "code",
   "execution_count": null,
   "metadata": {
    "collapsed": true
   },
   "outputs": [],
   "source": []
  }
 ],
 "metadata": {
  "kernelspec": {
   "display_name": "Python [Root]",
   "language": "python",
   "name": "Python [Root]"
  },
  "language_info": {
   "codemirror_mode": {
    "name": "ipython",
    "version": 3
   },
   "file_extension": ".py",
   "mimetype": "text/x-python",
   "name": "python",
   "nbconvert_exporter": "python",
   "pygments_lexer": "ipython3",
   "version": "3.5.2"
  }
 },
 "nbformat": 4,
 "nbformat_minor": 0
}
